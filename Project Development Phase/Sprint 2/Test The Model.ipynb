{
  "nbformat": 4,
  "nbformat_minor": 0,
  "metadata": {
    "colab": {
      "provenance": []
    },
    "kernelspec": {
      "name": "python3",
      "display_name": "Python 3"
    },
    "language_info": {
      "name": "python"
    }
  },
  "cells": [
    {
      "cell_type": "markdown",
      "source": [
        "##TEST THE MODEL"
      ],
      "metadata": {
        "id": "TOEya1fQlR48"
      }
    },
    {
      "cell_type": "code",
      "source": [
        "!unzip '/content/drive/MyDrive/IBMPROJECT/conversation engine for deaf and dumb.zip'"
      ],
      "metadata": {
        "id": "snq--xgskohc"
      },
      "execution_count": null,
      "outputs": []
    },
    {
      "cell_type": "code",
      "execution_count": 1,
      "metadata": {
        "id": "SjMZT0YFj_-c"
      },
      "outputs": [],
      "source": [
        "from tensorflow.keras.models import load_model\n",
        "from tensorflow.keras.preprocessing import image\n",
        "import numpy as np\n",
        "import cv2"
      ]
    },
    {
      "cell_type": "code",
      "source": [
        "model = load_model('/content/Real_time.h5')"
      ],
      "metadata": {
        "id": "-nDN6iyWkd9L"
      },
      "execution_count": 8,
      "outputs": []
    },
    {
      "cell_type": "code",
      "source": [
        "img = image.load_img('/content/Dataset/test_set/H/107.png',target_size = (100,100))\n",
        "img"
      ],
      "metadata": {
        "colab": {
          "base_uri": "https://localhost:8080/",
          "height": 117
        },
        "id": "UZtwzfSvkGyu",
        "outputId": "9b75f8f7-1e2a-42ad-e56b-7bff672fef6d"
      },
      "execution_count": 9,
      "outputs": [
        {
          "output_type": "execute_result",
          "data": {
            "text/plain": [
              "<PIL.Image.Image image mode=RGB size=100x100 at 0x7F2D37E9B190>"
            ],
            "image/png": "[encoded data removed]"
          },
          "metadata": {},
          "execution_count": 9
        }
      ]
    },
    {
      "cell_type": "code",
      "source": [
        "from skimage.transform import resize\n",
        "def detect(frame):\n",
        "    img=image.img_to_array(frame)\n",
        "    img = resize(img,(64,64,1))\n",
        "    img = np.expand_dims(img,axis=0)\n",
        "    pred=np.argmax(model.predict(img))\n",
        "    op=['A','B','C','D','E','F','G','H','I']\n",
        "    print(\"THE PREDICTED LETTER IS \",op[pred])"
      ],
      "metadata": {
        "id": "Hl13lzG6kNv9"
      },
      "execution_count": 10,
      "outputs": []
    },
    {
      "cell_type": "code",
      "source": [
        "img=image.load_img(\"/content/Dataset/test_set/H/107.png\")\n",
        "detect(img)"
      ],
      "metadata": {
        "colab": {
          "base_uri": "https://localhost:8080/"
        },
        "id": "xzUN7xCgkOj4",
        "outputId": "1fa5326b-5caa-49c2-b905-7720a634e6a9"
      },
      "execution_count": 11,
      "outputs": [
        {
          "output_type": "stream",
          "name": "stdout",
          "text": [
            "1/1 [==============================] - 0s 412ms/step\n",
            "THE PREDICTED LETTER IS  H\n"
          ]
        }
      ]
    },
    {
      "cell_type": "code",
      "source": [
        "img = image.load_img('/content/Dataset/test_set/A/110.png')\n",
        "pred=detect(img)"
      ],
      "metadata": {
        "colab": {
          "base_uri": "https://localhost:8080/"
        },
        "id": "VvqtPn8GkR3M",
        "outputId": "f2df7b44-699e-44ef-df3c-d16cee546590"
      },
      "execution_count": 12,
      "outputs": [
        {
          "output_type": "stream",
          "name": "stdout",
          "text": [
            "1/1 [==============================] - 0s 23ms/step\n",
            "THE PREDICTED LETTER IS  A\n"
          ]
        }
      ]
    },
    {
      "cell_type": "code",
      "source": [
        "img=image.load_img('/content/Dataset/test_set/F/108.png')\n",
        "detect(img)"
      ],
      "metadata": {
        "colab": {
          "base_uri": "https://localhost:8080/"
        },
        "id": "GR9O89jXkVuf",
        "outputId": "7f05feeb-21a0-4591-c3f0-180b2039961e"
      },
      "execution_count": 14,
      "outputs": [
        {
          "output_type": "stream",
          "name": "stdout",
          "text": [
            "1/1 [==============================] - 0s 25ms/step\n",
            "THE PREDICTED LETTER IS  F\n"
          ]
        }
      ]
    }
  ]
}